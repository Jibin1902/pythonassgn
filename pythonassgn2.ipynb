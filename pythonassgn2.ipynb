{
  "nbformat": 4,
  "nbformat_minor": 0,
  "metadata": {
    "colab": {
      "provenance": [],
      "authorship_tag": "ABX9TyMbrIS/Kgo5PSapx7mXOnQr",
      "include_colab_link": true
    },
    "kernelspec": {
      "name": "python3",
      "display_name": "Python 3"
    },
    "language_info": {
      "name": "python"
    }
  },
  "cells": [
    {
      "cell_type": "markdown",
      "metadata": {
        "id": "view-in-github",
        "colab_type": "text"
      },
      "source": [
        "<a href=\"https://colab.research.google.com/github/Jibin1902/pythonassgn/blob/main/pythonassgn2.ipynb\" target=\"_parent\"><img src=\"https://colab.research.google.com/assets/colab-badge.svg\" alt=\"Open In Colab\"/></a>"
      ]
    },
    {
      "cell_type": "code",
      "execution_count": 3,
      "metadata": {
        "colab": {
          "base_uri": "https://localhost:8080/"
        },
        "id": "jCKzzT_zGUfQ",
        "outputId": "81f5eada-46d7-4429-b459-8506fb82f4b6"
      },
      "outputs": [
        {
          "output_type": "stream",
          "name": "stdout",
          "text": [
            "String : 24\n",
            "Count of character in string:\n",
            "2 : 1\n",
            "4 : 1\n"
          ]
        }
      ],
      "source": [
        "# Write a Python program to accept a string value from the user and display the count of each character in that string\n",
        "\n",
        "\n",
        "string = input(\"String : \")\n",
        "char_count = {}\n",
        "for char in string:\n",
        "  if char in char_count:\n",
        "    char_count[char] += 1\n",
        "  else:\n",
        "    char_count[char] = 1\n",
        "print(\"Count of character in string:\")\n",
        "for char, count in char_count.items():\n",
        "  print(char, \":\", count)"
      ]
    },
    {
      "cell_type": "code",
      "source": [
        "# Write a Python function to find the maximum of three numbers\n",
        "\n",
        "def find_maximum(a, b, c):\n",
        "  return max(a, b, c)\n",
        "\n",
        "\n",
        "num1 = 56\n",
        "num2 = 74\n",
        "num3 = 12\n",
        "maximum = find_maximum(num1, num2, num3)\n",
        "print(\"Maximum number :\", maximum)"
      ],
      "metadata": {
        "colab": {
          "base_uri": "https://localhost:8080/"
        },
        "id": "Df8Tjp1BHt5e",
        "outputId": "be61d723-b861-4b28-bb7e-cfff0b857d86"
      },
      "execution_count": 5,
      "outputs": [
        {
          "output_type": "stream",
          "name": "stdout",
          "text": [
            "Maximum number : 74\n"
          ]
        }
      ]
    },
    {
      "cell_type": "code",
      "source": [
        "# Write a Python function called exponent(base,exp) that returns an integer value of base raises to the power of exp.\n",
        "\n",
        "def exponent(base, exp):\n",
        "  return base ** exp\n",
        "\n",
        "base_no = 3\n",
        "exponent_value = 3\n",
        "result = exponent(base_no, exponent_value)\n",
        "print(base_no, \"raised to the power of\", exponent_value, \"is:\", result)"
      ],
      "metadata": {
        "colab": {
          "base_uri": "https://localhost:8080/"
        },
        "id": "xv3gf1TNIkPV",
        "outputId": "d789172e-49f8-45e0-d436-1785661b89be"
      },
      "execution_count": 7,
      "outputs": [
        {
          "output_type": "stream",
          "name": "stdout",
          "text": [
            "3 raised to the power of 3 is: 27\n"
          ]
        }
      ]
    },
    {
      "cell_type": "code",
      "source": [
        "# Write a Python function that takes a positive integer and returns the sum of the cube of all the positive integers smaller than the specified number.\n",
        "\n",
        "def sum_of_cubes(n):\n",
        "  sum = 0\n",
        "  for i in range(1, n):\n",
        "    sum += i ** 3\n",
        "  return sum\n",
        "\n",
        "number = 5\n",
        "result = sum_of_cubes(number)\n",
        "print(\"Sum of cubes is smaller than\", number, \"is:\", result)"
      ],
      "metadata": {
        "colab": {
          "base_uri": "https://localhost:8080/"
        },
        "id": "QsRQPH2JIdLP",
        "outputId": "8d966ce4-5c5f-4a68-9be9-a6848c949b7a"
      },
      "execution_count": 9,
      "outputs": [
        {
          "output_type": "stream",
          "name": "stdout",
          "text": [
            "Sum of cubes is smaller than 5 is: 100\n"
          ]
        }
      ]
    },
    {
      "cell_type": "code",
      "source": [
        "# Write a Python program which iterates from 1 to 10. For multiples of 2,print “Fizz” instead of the number and for the multiples of 5, print “Buzz”. For numbers which are multiples of both 2 and 5, print “FizzBuzz”.\n",
        "\n",
        "for i in range(2, 9):\n",
        "  if i % 2 == 0 and i % 5 == 0:\n",
        "    print(\"FizzBuzz\")\n",
        "  elif i % 2 == 0:\n",
        "    print(\"Fizz\")\n",
        "  elif i % 5 == 0:\n",
        "    print(\"Buzz\")\n",
        "  else:\n",
        "    print(i)"
      ],
      "metadata": {
        "colab": {
          "base_uri": "https://localhost:8080/"
        },
        "id": "JPmU_ynSJN3N",
        "outputId": "06fa473e-6f53-4e67-fa75-9688697aa24d"
      },
      "execution_count": 11,
      "outputs": [
        {
          "output_type": "stream",
          "name": "stdout",
          "text": [
            "Fizz\n",
            "3\n",
            "Fizz\n",
            "Buzz\n",
            "Fizz\n",
            "7\n",
            "Fizz\n"
          ]
        }
      ]
    },
    {
      "cell_type": "code",
      "source": [
        "#  Write a Python program to find the most frequent item in a list of numbers.\n",
        "\n",
        "from collections import Counter\n",
        "\n",
        "def most_frequent(numbers):\n",
        "  count = Counter(numbers)\n",
        "  return count.most_common(1)[0][0]\n",
        "\n",
        "numbers = [1,2,4,1,2,4,3,1,2,1]\n",
        "most_frequent_number = most_frequent(numbers)\n",
        "print(\"The most frequent number is:\", most_frequent_number)"
      ],
      "metadata": {
        "colab": {
          "base_uri": "https://localhost:8080/"
        },
        "id": "c2i5sUO7JdpM",
        "outputId": "d034378b-dca4-4c08-b649-dd5daa917e10"
      },
      "execution_count": 13,
      "outputs": [
        {
          "output_type": "stream",
          "name": "stdout",
          "text": [
            "The most frequent number is: 1\n"
          ]
        }
      ]
    },
    {
      "cell_type": "code",
      "source": [
        "#  Write a Python program to find the sum of squares of the numbers in a list.\n",
        "\n",
        "def sum_of_squares(numbers):\n",
        "  sum = 0\n",
        "  for number in numbers:\n",
        "    sum += number ** 2\n",
        "  return sum\n",
        "\n",
        "numbers = [1,5,4,7,8]\n",
        "result = sum_of_squares(numbers)\n",
        "print(\"The sum of squares is:\", result)"
      ],
      "metadata": {
        "colab": {
          "base_uri": "https://localhost:8080/"
        },
        "id": "xKFL5k1LJs78",
        "outputId": "69ea4b47-7334-4edf-b520-59effc1b3c00"
      },
      "execution_count": 14,
      "outputs": [
        {
          "output_type": "stream",
          "name": "stdout",
          "text": [
            "The sum of squares is: 155\n"
          ]
        }
      ]
    },
    {
      "cell_type": "code",
      "source": [
        "# Write a Python program using for loop that will iterate from 1 to 15. For each iteration, check if the current number is odd or even, and display the message to the screen as odd or even.\n",
        "\n",
        "for i in range(1,15):\n",
        "  if i % 2 == 0:\n",
        "    print(i, \" even\")\n",
        "  else:\n",
        "    print(i, \" odd\")\n"
      ],
      "metadata": {
        "colab": {
          "base_uri": "https://localhost:8080/"
        },
        "id": "jG5nAfQDKMoH",
        "outputId": "6f6b0ddf-bb29-4054-c9f1-c5d610f413a4"
      },
      "execution_count": 19,
      "outputs": [
        {
          "output_type": "stream",
          "name": "stdout",
          "text": [
            "1  odd\n",
            "2  even\n",
            "3  odd\n",
            "4  even\n",
            "5  odd\n",
            "6  even\n",
            "7  odd\n",
            "8  even\n",
            "9  odd\n",
            "10  even\n",
            "11  odd\n",
            "12  even\n",
            "13  odd\n",
            "14  even\n"
          ]
        }
      ]
    },
    {
      "cell_type": "code",
      "source": [
        "#  Write a Python program to convert temperatures to and from Celsius Fahrenheit.\n",
        "\n",
        "def celsius_to_fahrenheit(celsius):\n",
        "  fahrenheit = (celsius * 9/5) + 32\n",
        "  return fahrenheit\n",
        "\n",
        "def fahrenheit_to_celsius(fahrenheit):\n",
        "  celsius = (fahrenheit - 32) * 5/9\n",
        "  return celsius\n",
        "\n",
        "celsius = 27\n",
        "fahrenheit = celsius_to_fahrenheit(celsius)\n",
        "print(\"Temperature in Fahrenheit:\", fahrenheit)\n",
        "\n",
        "fahrenheit = 87\n",
        "celsius = fahrenheit_to_celsius(fahrenheit)\n",
        "print(\"Temperature in celsius\",celsius)"
      ],
      "metadata": {
        "colab": {
          "base_uri": "https://localhost:8080/"
        },
        "id": "Dvmpc2gWKTgk",
        "outputId": "436c8a13-7e51-4130-d3dc-dd99efe5fa48"
      },
      "execution_count": 21,
      "outputs": [
        {
          "output_type": "stream",
          "name": "stdout",
          "text": [
            "Temperature in Fahrenheit: 80.6\n",
            "Temperature in celsius 30.555555555555557\n"
          ]
        }
      ]
    },
    {
      "cell_type": "code",
      "source": [
        "#  Write a Python function to calculate the factorial of a number (a nonnegative integer). The function accepts the number as an argument.\n",
        "\n",
        "def factorial(n):\n",
        "  if n == 0:\n",
        "    return 1\n",
        "  else:\n",
        "    return n * factorial(n - 1)\n",
        "\n",
        "number = 3\n",
        "result = factorial(number)\n",
        "print(\"The factorial\", number, \"is:\", result)"
      ],
      "metadata": {
        "colab": {
          "base_uri": "https://localhost:8080/"
        },
        "id": "SCL7xkdQKlPM",
        "outputId": "dc71c8ce-b71d-442d-ff51-9b011e15c6c7"
      },
      "execution_count": 26,
      "outputs": [
        {
          "output_type": "stream",
          "name": "stdout",
          "text": [
            "The factorial 3 is: 6\n"
          ]
        }
      ]
    },
    {
      "cell_type": "code",
      "source": [],
      "metadata": {
        "id": "IHzT8Mk9K69E"
      },
      "execution_count": null,
      "outputs": []
    }
  ]
}