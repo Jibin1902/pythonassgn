{
  "nbformat": 4,
  "nbformat_minor": 0,
  "metadata": {
    "colab": {
      "provenance": [],
      "authorship_tag": "ABX9TyMVWi5vSx6rquafvXhKeri4",
      "include_colab_link": true
    },
    "kernelspec": {
      "name": "python3",
      "display_name": "Python 3"
    },
    "language_info": {
      "name": "python"
    }
  },
  "cells": [
    {
      "cell_type": "markdown",
      "metadata": {
        "id": "view-in-github",
        "colab_type": "text"
      },
      "source": [
        "<a href=\"https://colab.research.google.com/github/Jibin1902/pythonassgn/blob/main/pythonassgnictak.ipynb\" target=\"_parent\"><img src=\"https://colab.research.google.com/assets/colab-badge.svg\" alt=\"Open In Colab\"/></a>"
      ]
    },
    {
      "cell_type": "code",
      "execution_count": null,
      "metadata": {
        "id": "_zCGnQg62vvb"
      },
      "outputs": [],
      "source": []
    },
    {
      "cell_type": "code",
      "execution_count": null,
      "metadata": {
        "colab": {
          "base_uri": "https://localhost:8080/"
        },
        "id": "4ydPZeb_ur93",
        "outputId": "4ca970b3-3368-4d9d-e266-23744129df35"
      },
      "outputs": [
        {
          "output_type": "stream",
          "name": "stdout",
          "text": [
            "Radius of circle :1\n",
            "Area of circle is : 3.14\n"
          ]
        }
      ],
      "source": [
        "# Write a Python program which accepts the radius of a circle from the user and compute the area.\n",
        "\n",
        "r = int(input(\"Radius of circle :\"))\n",
        "area = 3.14*(r**2)\n",
        "print(\"Area of circle is :\",area)"
      ]
    },
    {
      "cell_type": "code",
      "source": [
        "# Write a Python Program to accept the details of a student like name, roll number and mark and display it.\n",
        "\n",
        "name = input(\"Enter the name :\")\n",
        "roll_no = int(input(\"Enter the roll number :\"))\n",
        "mark = int(input(\"Enter the mark  :\"))\n",
        "print(\"Name :\",name)\n",
        "print(\"Roll No :\",roll_no)\n",
        "print(\"Mark :\",mark)"
      ],
      "metadata": {
        "colab": {
          "base_uri": "https://localhost:8080/"
        },
        "id": "TEX5OnCKvEHx",
        "outputId": "cdc5c153-e445-4e7b-be31-403cec522577"
      },
      "execution_count": null,
      "outputs": [
        {
          "output_type": "stream",
          "name": "stdout",
          "text": [
            "Enter the name :jibin\n",
            "Enter the roll number :19\n",
            "Enter the mark  :19\n",
            "Name : jibin\n",
            "Roll No : 19\n",
            "Mark : 19\n"
          ]
        }
      ]
    },
    {
      "cell_type": "code",
      "source": [
        "#Write a Python program to get the largest number from a list.\n",
        "\n",
        "\n",
        "def largest_number(numbers):\n",
        "    if not numbers:\n",
        "        return None\n",
        "    largest = numbers[0]\n",
        "    for number in numbers:\n",
        "        if number > largest:\n",
        "            largest = number\n",
        "    return largest\n",
        "\n",
        "numbers = [10,2,40,5]\n",
        "print(largest_number(numbers),\"is the largest\")"
      ],
      "metadata": {
        "colab": {
          "base_uri": "https://localhost:8080/"
        },
        "id": "_o1AbvI2wWzM",
        "outputId": "c8043d61-c426-406a-ba34-1d3445e2d32b"
      },
      "execution_count": null,
      "outputs": [
        {
          "output_type": "stream",
          "name": "stdout",
          "text": [
            "40 is the largest\n"
          ]
        }
      ]
    },
    {
      "cell_type": "code",
      "source": [
        "# Given a range of first 10 numbers, write a Python program to iterate from start number to the end number and print the sum of the current number and previous number.\n",
        "\n",
        "number = range(10)\n",
        "previous_number = 0\n",
        "for i in number:\n",
        "    sum = previous_number + i\n",
        "    print(\"Current No\",i,\"Previous No\",previous_number,\"Sum:\",sum)\n",
        "    previous_number = i"
      ],
      "metadata": {
        "colab": {
          "base_uri": "https://localhost:8080/"
        },
        "id": "U4kmyv1Lwvc3",
        "outputId": "576b6370-ad83-460c-8f77-f837c3b4787c"
      },
      "execution_count": null,
      "outputs": [
        {
          "output_type": "stream",
          "name": "stdout",
          "text": [
            "Current No 0 Previous No 0 Sum: 0\n",
            "Current No 1 Previous No 0 Sum: 1\n",
            "Current No 2 Previous No 1 Sum: 3\n",
            "Current No 3 Previous No 2 Sum: 5\n",
            "Current No 4 Previous No 3 Sum: 7\n",
            "Current No 5 Previous No 4 Sum: 9\n",
            "Current No 6 Previous No 5 Sum: 11\n",
            "Current No 7 Previous No 6 Sum: 13\n",
            "Current No 8 Previous No 7 Sum: 15\n",
            "Current No 9 Previous No 8 Sum: 17\n"
          ]
        }
      ]
    },
    {
      "cell_type": "code",
      "source": [
        "# Write a Python program to print only those numbers which are divisible of 5.\n",
        "\n",
        "numbers = [12, 340, 3, 54, 55]\n",
        "def print_divisible_by_5(numbers):\n",
        "    result = [num for num in numbers if num % 5 == 0]\n",
        "    print(result)\n",
        "\n",
        "print_divisible_by_5(numbers)\n"
      ],
      "metadata": {
        "colab": {
          "base_uri": "https://localhost:8080/"
        },
        "id": "DXeFXykoyMMB",
        "outputId": "7aa641dc-256c-4348-803c-de28b6615946"
      },
      "execution_count": null,
      "outputs": [
        {
          "output_type": "stream",
          "name": "stdout",
          "text": [
            "[340, 55]\n"
          ]
        }
      ]
    },
    {
      "cell_type": "code",
      "source": [
        "# Write a Python program to check whether a number is prime or not.\n",
        "\n",
        "num = int(input(\"Enter the number: \"))\n",
        "if num > 1:\n",
        "    for i in range(2, (num//2)+1):\n",
        "        if (num % i) == 0:\n",
        "            print(num, \"not prime number\")\n",
        "            break\n",
        "    else:\n",
        "        print(num, \"a prime number\")\n",
        "else:\n",
        "    print(num, \"not prime number\")"
      ],
      "metadata": {
        "colab": {
          "base_uri": "https://localhost:8080/"
        },
        "id": "tgBURXxwy_XH",
        "outputId": "0e134dbc-6711-445f-d7e3-fd9cfaa4ad63"
      },
      "execution_count": null,
      "outputs": [
        {
          "output_type": "stream",
          "name": "stdout",
          "text": [
            "Enter the number: 10\n",
            "10 not prime number\n"
          ]
        }
      ]
    },
    {
      "cell_type": "code",
      "source": [
        "# Write a Python program to reverse a list using for loop.\n",
        "\n",
        "num = [11,12,13,14,15]\n",
        "reverse_num = []\n",
        "for i in num:\n",
        "    reverse_num.insert(0,i)\n",
        "print(reverse_num)"
      ],
      "metadata": {
        "colab": {
          "base_uri": "https://localhost:8080/"
        },
        "id": "i3IDg7LAzeSm",
        "outputId": "d6eaa29c-889e-41ad-beb5-f0db3b7235e7"
      },
      "execution_count": null,
      "outputs": [
        {
          "output_type": "stream",
          "name": "stdout",
          "text": [
            "[15, 14, 13, 12, 11]\n"
          ]
        }
      ]
    },
    {
      "cell_type": "code",
      "source": [
        "# Write a Python program to print the following pattern.\n",
        "\n",
        "n = 6\n",
        "for i in range(1, n + 1):\n",
        "    print('+' * i)"
      ],
      "metadata": {
        "colab": {
          "base_uri": "https://localhost:8080/"
        },
        "id": "jP365I_ez1xA",
        "outputId": "6c0592ff-7779-4cb8-9152-64c033f05903"
      },
      "execution_count": null,
      "outputs": [
        {
          "output_type": "stream",
          "name": "stdout",
          "text": [
            "+\n",
            "++\n",
            "+++\n",
            "++++\n",
            "+++++\n",
            "++++++\n"
          ]
        }
      ]
    },
    {
      "cell_type": "code",
      "source": [
        "# Write a Python program to find the maximum of three numbers.\n",
        "\n",
        "num = [32,35,36]\n",
        "max_num = num[0]\n",
        "for i in num:\n",
        "    if i > max_num:\n",
        "        max_num = i\n",
        "print(max_num)"
      ],
      "metadata": {
        "colab": {
          "base_uri": "https://localhost:8080/"
        },
        "id": "VWoRmnOP0Ci3",
        "outputId": "7e9782f9-4b41-4f0a-922e-b8fa8812287c"
      },
      "execution_count": null,
      "outputs": [
        {
          "output_type": "stream",
          "name": "stdout",
          "text": [
            "36\n"
          ]
        }
      ]
    },
    {
      "cell_type": "code",
      "source": [
        "# Write a Python program to construct the following pattern, using a nested for loop.\n",
        "\n",
        "n = 9\n",
        "for i in range(1, n + 1):\n",
        "    print('+' * i)\n",
        "for i in range(n - 1, 0, -1):\n",
        "    print('+' * i)"
      ],
      "metadata": {
        "colab": {
          "base_uri": "https://localhost:8080/"
        },
        "id": "ZyYlvgm10ZFW",
        "outputId": "1b81b3b4-d0d4-4793-f14d-c27855971493"
      },
      "execution_count": null,
      "outputs": [
        {
          "output_type": "stream",
          "name": "stdout",
          "text": [
            "+\n",
            "++\n",
            "+++\n",
            "++++\n",
            "+++++\n",
            "++++++\n",
            "+++++++\n",
            "++++++++\n",
            "+++++++++\n",
            "++++++++\n",
            "+++++++\n",
            "++++++\n",
            "+++++\n",
            "++++\n",
            "+++\n",
            "++\n",
            "+\n"
          ]
        }
      ]
    },
    {
      "cell_type": "code",
      "source": [],
      "metadata": {
        "id": "-o0xFizd0oPe"
      },
      "execution_count": null,
      "outputs": []
    }
  ]
}